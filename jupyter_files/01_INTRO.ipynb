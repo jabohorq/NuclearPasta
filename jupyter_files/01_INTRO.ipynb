{
 "cells": [
  {
   "cell_type": "markdown",
   "id": "8f6a7038",
   "metadata": {},
   "source": [
    "# NUCLEAR PASTA IN LAMMPS"
   ]
  },
  {
   "cell_type": "markdown",
   "id": "05dd2e9d",
   "metadata": {},
   "source": [
    "## Natural units (some useful conversions):\n",
    "Fundamental quantities: $\\hbar$ (action), $c$ (speed of light), $eV$.\n",
    "$$1 c = 2.99792458 \\times 10^10 cm/s\\\\\n",
    "1 \\hbar = 1.05457266\\times 10^{-27}g~cm^2/s\\\\\n",
    "1 eV = 1.60217733 \\times 10^{-12} g~cm^2/s^2\\\\\n",
    "1 s = 1.51926689 \\times 10^{15} \\hbar/eV\\\\\n",
    "1 cm = 5.06772886 \\times 10^{4} \\hbar c /eV\\\\\n",
    "1 g = 5.60958616 \\times 10^{32} eV/c^2\\\\\n",
    "\\hbar c = 197.327053 MeV ~ fm\\\\\n",
    "e^2 = [137.03985]^{-1} \\hbar c$$\n",
    "\n",
    "## Units\n",
    "$$\n",
    "[mass]= eV/c^2\\\\\n",
    "[time]=\\hbar/eV\\\\\n",
    "[length]=\\hbar c/eV\\\\\n",
    "[momentum]=eV/c\\\\\n",
    "[force]=eV^2/\\hbar c\\\\\n",
    "[pressure]=eV^4 / \\hbar^3 c^3\\\\\n",
    "[charge]=\\hbar c\n",
    "$$\n",
    "\n",
    "## LAMMPS metal units\n",
    "- [mass] = grams/mole\n",
    "- [distance] = Angstroms\n",
    "- [time] = picoseconds\n",
    "- [energy] = eV\n",
    "- [velocity] = Angstroms/picosecond\n",
    "- [force] = eV/Angstrom\n",
    "- [torque] = eV\n",
    "- [temperature] = Kelvin\n",
    "- [pressure] = bars\n",
    "- [dynamic viscosity] = Poise\n",
    "- [charge] = multiple of electron charge (1.0 is a proton)\n",
    "- [dipole] = charge*Angstroms\n",
    "- [electric field] = volts/Angstrom\n",
    "- [density] = gram/cm^dim\n",
    "\n",
    "## Conversion factors between Natural units and Metal LAMMPS units\n",
    "- Distance $ 1~ A = 10^{5}~ fm $ and $1~ fm = 10^{-5}~ A$\n",
    "- Time $1~ ps = 2.9978 \\times 10^{11}~ fm/c$ and $1~fm/c = 3.33 \\times 10^{-12}~ ps$\n",
    "- Temperature $1~ eV = 1.1604 \\times 10^{4}~K$, $1~ MeV = 1.1604\\times 10^{10}~K$, and $1~K=8.617343 \\times 10^{-5} ~eV$\n",
    "- Boltzmann constant $k_B=8.617343 \\times 10^{-5}~eV/K$(LAMMPS) and $k_B=1$(in natural units)\n",
    "- Mass $M_{proton}= 1~ uma$ (LAMMPS) and $M_{proton}=938.272~ MeV /c^2$\n",
    "- Mass $M_{neutron}= 1.00137~ uma$ (LAMMPS) and  $M_{neutron}=939.56~ MeV /c^2$"
   ]
  },
  {
   "cell_type": "markdown",
   "id": "757703eb",
   "metadata": {},
   "source": [
    "## Set up simulation"
   ]
  },
  {
   "cell_type": "code",
   "execution_count": 5,
   "id": "1a921502",
   "metadata": {},
   "outputs": [
    {
     "name": "stdout",
     "output_type": "stream",
     "text": [
      "Simulation box length: 8.82e-04 A\n"
     ]
    }
   ],
   "source": [
    "import numpy as np\n",
    "# Number of particles\n",
    "n_part = 6859\n",
    "# Reduced density (Number of particles/fm^3)\n",
    "density_part = 0.01\n",
    "sim_box_length = np.cbrt(n_part/density_part) #cube root (fm)\n",
    "sim_box_length = sim_box_length * 1e-5 # sim_box_lenght in A\n",
    "print('Simulation box length: {0:2.2e} A'.format(sim_box_length))"
   ]
  },
  {
   "cell_type": "markdown",
   "id": "ee1acc6b",
   "metadata": {},
   "source": [
    "* Simulation box \n",
    "$$\n",
    "L^3 = N/\\rho^{*}\n",
    "$$"
   ]
  },
  {
   "cell_type": "code",
   "execution_count": 6,
   "id": "dae0d19d",
   "metadata": {},
   "outputs": [
    {
     "name": "stdout",
     "output_type": "stream",
     "text": [
      "Number of unit cells: 19\n",
      "Lattice constant: 4.64e-05 A\n"
     ]
    }
   ],
   "source": [
    "# Particle per length unit\n",
    "n_unit_cell = np.cbrt(n_part)\n",
    "print('Number of unit cells: {0:2.0f}'.format(n_unit_cell))\n",
    "lattice_const = sim_box_length / n_unit_cell\n",
    "print('Lattice constant: {0:2.2e} A'.format(lattice_const))"
   ]
  },
  {
   "cell_type": "code",
   "execution_count": 7,
   "id": "b4387b84",
   "metadata": {},
   "outputs": [
    {
     "name": "stdout",
     "output_type": "stream",
     "text": [
      "Number of protons: 1371.8\n",
      "Number of neutrons: 5487.2\n"
     ]
    }
   ],
   "source": [
    "# Mass\n",
    "proton_frac = 0.2 # Proton fraction \n",
    "print('Number of protons: {0:5.1f}'.format(n_part * proton_frac))\n",
    "print('Number of neutrons: {0:5.1f}'.format(n_part * (1-proton_frac)))\n",
    "m_proton=1.0\n",
    "m_neutron=1.00137"
   ]
  },
  {
   "cell_type": "code",
   "execution_count": 8,
   "id": "d3b158b4",
   "metadata": {},
   "outputs": [
    {
     "name": "stdout",
     "output_type": "stream",
     "text": [
      "Time step: 6.66e-12\n",
      "Temperature: 1.16e+10\n"
     ]
    }
   ],
   "source": [
    "# Time and temperature\n",
    "time_step = 6.66e-12 # 6.66e-12 ps = 2 fm/c\n",
    "print('Time step: {0:2.2e}'.format(time_step))\n",
    "temp = 1.1604e10 # temperature 1.16K = 1 MeV\n",
    "print('Temperature: {0:2.2e}'.format(temp))"
   ]
  },
  {
   "cell_type": "markdown",
   "id": "11db7436",
   "metadata": {},
   "source": [
    "## Potential\n",
    "$$\n",
    "V(i,j)=-A e^{-r^2/\\Lambda} - [B + C \\tau_z(i) \\tau_z(j)] e^{-r^2/2 \\Lambda} + \\frac{q_e^2}{r} e^{-r/ \\kappa} \\tau_p(i) \\tau_p(j)\n",
    "$$\n",
    "where $\\tau_z$ is the nucleon isospin projection ($\\tau_z=+1$ for protons and $\\tau_z=-1$ for neutrons).\n",
    "\n",
    "For the screened Coulomb interaction $\\tau_p=(1+\\tau_z)/2$. $q_e$ is the electron charge. In natural units,\n",
    "$q_e^2/4 \\pi \\epsilon_0=1.43996\\ MeV\\ fm = 14.399\\ eV\\ A$\n",
    "\n",
    "This can be done using the pair/style\n",
    "\n",
    "`lmp.command(\"pair_style hybrid/overlay gauss {0} gauss {0} yukawa {1} {0}\".format(cutoff,kappa))`"
   ]
  },
  {
   "cell_type": "code",
   "execution_count": null,
   "id": "769a3b93",
   "metadata": {},
   "outputs": [],
   "source": [
    "a = -110e6\n",
    "b1 = 2e6 # For proton-proton or neutron-neutron interaction\n",
    "b2 = 50e6 # For proton-neutron interaction\n",
    "c = 14.399 # factor e^2 in Yukawa potential, just for proton-proton interaction\n",
    "Lambda = 1.25e-10 # for gaussian potentials\n",
    "kappa = 10e-5 # For Yukawa, Thomas-Fermi lenght\n",
    "cutoff = 2e-4 # cutoff distance for potentials\n",
    "print('Cutoff distance: {0:2.2e}'.format(cutoff))\n",
    "random_seed = 1234\n",
    "\n",
    "lmp.command(\"pair_style hybrid/overlay gauss {0} gauss {0} yukawa {1} {0}\".format(cutoff,kappa))\n",
    "# Pair coefficients for neutron-neutron interaction\n",
    "lmp.command(\"pair_coeff 1 1 gauss 1 {0} {1}\".format(a,1.0/Lambda))\n",
    "lmp.command(\"pair_coeff 1 1 gauss 2 {0} {1}\".format(b1,0.5/Lambda))\n",
    "lmp.command(\"pair_coeff 1 1 yukawa {0}\".format(0.0))\n",
    "# Pair coefficients for neutron-proton interaction\n",
    "lmp.command(\"pair_coeff 1 2 gauss 1 {0} {1}\".format(a,1.0/Lambda))\n",
    "lmp.command(\"pair_coeff 1 2 gauss 2 {0} {1}\".format(b2,0.5/Lambda))\n",
    "lmp.command(\"pair_coeff 1 2 yukawa {0}\".format(0.0))\n",
    "# Pair coefficients for proton-proton interaction\n",
    "lmp.command(\"pair_coeff 2 2 gauss 1 {0} {1}\".format(a,1.0/Lambda))\n",
    "lmp.command(\"pair_coeff 2 2 gauss 2 {0} {1}\".format(b1,0.5/Lambda))\n",
    "lmp.command(\"pair_coeff 2 2 yukawa {0}\".format(c))"
   ]
  }
 ],
 "metadata": {
  "kernelspec": {
   "display_name": "Python 3 (ipykernel)",
   "language": "python",
   "name": "python3"
  },
  "language_info": {
   "codemirror_mode": {
    "name": "ipython",
    "version": 3
   },
   "file_extension": ".py",
   "mimetype": "text/x-python",
   "name": "python",
   "nbconvert_exporter": "python",
   "pygments_lexer": "ipython3",
   "version": "3.8.10"
  }
 },
 "nbformat": 4,
 "nbformat_minor": 5
}
