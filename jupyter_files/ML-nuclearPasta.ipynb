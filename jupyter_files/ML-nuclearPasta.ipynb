{
 "cells": [
  {
   "cell_type": "code",
   "execution_count": 1,
   "id": "587ffc2d",
   "metadata": {},
   "outputs": [],
   "source": [
    "import numpy as np\n",
    "import pandas as pd\n",
    "import matplotlib.pyplot as plt\n",
    "import seaborn as sns"
   ]
  },
  {
   "cell_type": "markdown",
   "id": "bd9c5206",
   "metadata": {},
   "source": [
    "## Load data base with coordinates and isproton, isneutron data"
   ]
  },
  {
   "cell_type": "code",
   "execution_count": 2,
   "id": "d532a4c4",
   "metadata": {},
   "outputs": [
    {
     "data": {
      "text/html": [
       "<div>\n",
       "<style scoped>\n",
       "    .dataframe tbody tr th:only-of-type {\n",
       "        vertical-align: middle;\n",
       "    }\n",
       "\n",
       "    .dataframe tbody tr th {\n",
       "        vertical-align: top;\n",
       "    }\n",
       "\n",
       "    .dataframe thead th {\n",
       "        text-align: right;\n",
       "    }\n",
       "</style>\n",
       "<table border=\"1\" class=\"dataframe\">\n",
       "  <thead>\n",
       "    <tr style=\"text-align: right;\">\n",
       "      <th></th>\n",
       "      <th>x0</th>\n",
       "      <th>y0</th>\n",
       "      <th>z0</th>\n",
       "      <th>ip0</th>\n",
       "      <th>in0</th>\n",
       "      <th>x1</th>\n",
       "      <th>y1</th>\n",
       "      <th>z1</th>\n",
       "      <th>ip1</th>\n",
       "      <th>in1</th>\n",
       "      <th>...</th>\n",
       "      <th>x4911</th>\n",
       "      <th>y4911</th>\n",
       "      <th>z4911</th>\n",
       "      <th>ip4911</th>\n",
       "      <th>in4911</th>\n",
       "      <th>x4912</th>\n",
       "      <th>y4912</th>\n",
       "      <th>z4912</th>\n",
       "      <th>ip4912</th>\n",
       "      <th>in4912</th>\n",
       "    </tr>\n",
       "  </thead>\n",
       "  <tbody>\n",
       "    <tr>\n",
       "      <th>0</th>\n",
       "      <td>0.177253</td>\n",
       "      <td>0.020937</td>\n",
       "      <td>0.005375</td>\n",
       "      <td>1</td>\n",
       "      <td>0</td>\n",
       "      <td>0.215480</td>\n",
       "      <td>0.022285</td>\n",
       "      <td>0.007565</td>\n",
       "      <td>1</td>\n",
       "      <td>0</td>\n",
       "      <td>...</td>\n",
       "      <td>0.951113</td>\n",
       "      <td>0.877968</td>\n",
       "      <td>0.960496</td>\n",
       "      <td>0</td>\n",
       "      <td>1</td>\n",
       "      <td>0.971923</td>\n",
       "      <td>0.858115</td>\n",
       "      <td>0.968270</td>\n",
       "      <td>0</td>\n",
       "      <td>1</td>\n",
       "    </tr>\n",
       "    <tr>\n",
       "      <th>1</th>\n",
       "      <td>0.415156</td>\n",
       "      <td>0.056575</td>\n",
       "      <td>0.060082</td>\n",
       "      <td>1</td>\n",
       "      <td>0</td>\n",
       "      <td>0.399265</td>\n",
       "      <td>0.017177</td>\n",
       "      <td>0.078137</td>\n",
       "      <td>1</td>\n",
       "      <td>0</td>\n",
       "      <td>...</td>\n",
       "      <td>0.965008</td>\n",
       "      <td>0.866791</td>\n",
       "      <td>0.934393</td>\n",
       "      <td>0</td>\n",
       "      <td>1</td>\n",
       "      <td>0.984711</td>\n",
       "      <td>0.883360</td>\n",
       "      <td>0.837078</td>\n",
       "      <td>0</td>\n",
       "      <td>1</td>\n",
       "    </tr>\n",
       "    <tr>\n",
       "      <th>2</th>\n",
       "      <td>0.003533</td>\n",
       "      <td>0.000746</td>\n",
       "      <td>0.093678</td>\n",
       "      <td>1</td>\n",
       "      <td>0</td>\n",
       "      <td>0.021808</td>\n",
       "      <td>0.023451</td>\n",
       "      <td>0.142425</td>\n",
       "      <td>1</td>\n",
       "      <td>0</td>\n",
       "      <td>...</td>\n",
       "      <td>0.972306</td>\n",
       "      <td>0.875576</td>\n",
       "      <td>0.908103</td>\n",
       "      <td>0</td>\n",
       "      <td>1</td>\n",
       "      <td>0.951699</td>\n",
       "      <td>0.863874</td>\n",
       "      <td>0.972608</td>\n",
       "      <td>0</td>\n",
       "      <td>1</td>\n",
       "    </tr>\n",
       "    <tr>\n",
       "      <th>3</th>\n",
       "      <td>0.004735</td>\n",
       "      <td>0.019365</td>\n",
       "      <td>0.114002</td>\n",
       "      <td>1</td>\n",
       "      <td>0</td>\n",
       "      <td>0.030720</td>\n",
       "      <td>0.004933</td>\n",
       "      <td>0.087439</td>\n",
       "      <td>1</td>\n",
       "      <td>0</td>\n",
       "      <td>...</td>\n",
       "      <td>0.981348</td>\n",
       "      <td>0.866140</td>\n",
       "      <td>0.870222</td>\n",
       "      <td>0</td>\n",
       "      <td>1</td>\n",
       "      <td>0.995426</td>\n",
       "      <td>0.857306</td>\n",
       "      <td>0.921043</td>\n",
       "      <td>0</td>\n",
       "      <td>1</td>\n",
       "    </tr>\n",
       "    <tr>\n",
       "      <th>4</th>\n",
       "      <td>0.084641</td>\n",
       "      <td>0.055302</td>\n",
       "      <td>0.040997</td>\n",
       "      <td>1</td>\n",
       "      <td>0</td>\n",
       "      <td>0.024898</td>\n",
       "      <td>0.001129</td>\n",
       "      <td>0.057707</td>\n",
       "      <td>1</td>\n",
       "      <td>0</td>\n",
       "      <td>...</td>\n",
       "      <td>0.983670</td>\n",
       "      <td>0.860170</td>\n",
       "      <td>0.888134</td>\n",
       "      <td>0</td>\n",
       "      <td>1</td>\n",
       "      <td>0.954532</td>\n",
       "      <td>0.867424</td>\n",
       "      <td>0.898136</td>\n",
       "      <td>0</td>\n",
       "      <td>1</td>\n",
       "    </tr>\n",
       "  </tbody>\n",
       "</table>\n",
       "<p>5 rows × 24565 columns</p>\n",
       "</div>"
      ],
      "text/plain": [
       "         x0        y0        z0  ip0  in0        x1        y1        z1  ip1  \\\n",
       "0  0.177253  0.020937  0.005375    1    0  0.215480  0.022285  0.007565    1   \n",
       "1  0.415156  0.056575  0.060082    1    0  0.399265  0.017177  0.078137    1   \n",
       "2  0.003533  0.000746  0.093678    1    0  0.021808  0.023451  0.142425    1   \n",
       "3  0.004735  0.019365  0.114002    1    0  0.030720  0.004933  0.087439    1   \n",
       "4  0.084641  0.055302  0.040997    1    0  0.024898  0.001129  0.057707    1   \n",
       "\n",
       "   in1  ...     x4911     y4911     z4911  ip4911  in4911     x4912     y4912  \\\n",
       "0    0  ...  0.951113  0.877968  0.960496       0       1  0.971923  0.858115   \n",
       "1    0  ...  0.965008  0.866791  0.934393       0       1  0.984711  0.883360   \n",
       "2    0  ...  0.972306  0.875576  0.908103       0       1  0.951699  0.863874   \n",
       "3    0  ...  0.981348  0.866140  0.870222       0       1  0.995426  0.857306   \n",
       "4    0  ...  0.983670  0.860170  0.888134       0       1  0.954532  0.867424   \n",
       "\n",
       "      z4912  ip4912  in4912  \n",
       "0  0.968270       0       1  \n",
       "1  0.837078       0       1  \n",
       "2  0.972608       0       1  \n",
       "3  0.921043       0       1  \n",
       "4  0.898136       0       1  \n",
       "\n",
       "[5 rows x 24565 columns]"
      ]
     },
     "execution_count": 2,
     "metadata": {},
     "output_type": "execute_result"
    }
   ],
   "source": [
    "df11 = pd.read_csv('rho01Sam1_db.csv')\n",
    "df12 = pd.read_csv('rho02Sam1_db.csv')\n",
    "df13 = pd.read_csv('rho03Sam1_db.csv')\n",
    "df14 = pd.read_csv('rho04Sam1_db.csv')\n",
    "df15 = pd.read_csv('rho05Sam1_db.csv')\n",
    "df16 = pd.read_csv('rho06Sam1_db.csv')\n",
    "df21 = pd.read_csv('rho01Sam2_db.csv')\n",
    "df22 = pd.read_csv('rho02Sam2_db.csv')\n",
    "df23 = pd.read_csv('rho03Sam2_db.csv')\n",
    "df24 = pd.read_csv('rho04Sam2_db.csv')\n",
    "df25 = pd.read_csv('rho05Sam2_db.csv')\n",
    "df26 = pd.read_csv('rho06Sam2_db.csv')\n",
    "df = pd.concat([df11,df12,df13,df14,df15,df16,df21,df22,df23,df24,df25,df26])\n",
    "df.head()"
   ]
  },
  {
   "cell_type": "code",
   "execution_count": 3,
   "id": "3d3f981a",
   "metadata": {},
   "outputs": [
    {
     "data": {
      "text/plain": [
       "Index(['x0', 'y0', 'z0', 'ip0', 'in0', 'x1', 'y1', 'z1', 'ip1', 'in1',\n",
       "       ...\n",
       "       'x4911', 'y4911', 'z4911', 'ip4911', 'in4911', 'x4912', 'y4912',\n",
       "       'z4912', 'ip4912', 'in4912'],\n",
       "      dtype='object', length=24565)"
      ]
     },
     "execution_count": 3,
     "metadata": {},
     "output_type": "execute_result"
    }
   ],
   "source": [
    "df.columns"
   ]
  },
  {
   "cell_type": "markdown",
   "id": "be6ee76c",
   "metadata": {},
   "source": [
    "# Load Minkowski functional data"
   ]
  },
  {
   "cell_type": "code",
   "execution_count": 4,
   "id": "a7ca44f5",
   "metadata": {},
   "outputs": [
    {
     "data": {
      "text/html": [
       "<div>\n",
       "<style scoped>\n",
       "    .dataframe tbody tr th:only-of-type {\n",
       "        vertical-align: middle;\n",
       "    }\n",
       "\n",
       "    .dataframe tbody tr th {\n",
       "        vertical-align: top;\n",
       "    }\n",
       "\n",
       "    .dataframe thead th {\n",
       "        text-align: right;\n",
       "    }\n",
       "</style>\n",
       "<table border=\"1\" class=\"dataframe\">\n",
       "  <thead>\n",
       "    <tr style=\"text-align: right;\">\n",
       "      <th></th>\n",
       "      <th>Density</th>\n",
       "      <th>Sample</th>\n",
       "      <th>VolumeDensity</th>\n",
       "      <th>SurfaceAreaDensity</th>\n",
       "      <th>MeanBreadthDensity</th>\n",
       "      <th>EulerNumberDensity</th>\n",
       "    </tr>\n",
       "  </thead>\n",
       "  <tbody>\n",
       "    <tr>\n",
       "      <th>0</th>\n",
       "      <td>0.01</td>\n",
       "      <td>91</td>\n",
       "      <td>0.186</td>\n",
       "      <td>0.116</td>\n",
       "      <td>0.004</td>\n",
       "      <td>0.000386</td>\n",
       "    </tr>\n",
       "    <tr>\n",
       "      <th>1</th>\n",
       "      <td>0.01</td>\n",
       "      <td>92</td>\n",
       "      <td>0.185</td>\n",
       "      <td>0.116</td>\n",
       "      <td>0.004</td>\n",
       "      <td>0.000373</td>\n",
       "    </tr>\n",
       "    <tr>\n",
       "      <th>2</th>\n",
       "      <td>0.01</td>\n",
       "      <td>93</td>\n",
       "      <td>0.185</td>\n",
       "      <td>0.116</td>\n",
       "      <td>0.004</td>\n",
       "      <td>0.000386</td>\n",
       "    </tr>\n",
       "    <tr>\n",
       "      <th>3</th>\n",
       "      <td>0.01</td>\n",
       "      <td>94</td>\n",
       "      <td>0.185</td>\n",
       "      <td>0.116</td>\n",
       "      <td>0.004</td>\n",
       "      <td>0.000392</td>\n",
       "    </tr>\n",
       "    <tr>\n",
       "      <th>4</th>\n",
       "      <td>0.01</td>\n",
       "      <td>95</td>\n",
       "      <td>0.185</td>\n",
       "      <td>0.116</td>\n",
       "      <td>0.004</td>\n",
       "      <td>0.000377</td>\n",
       "    </tr>\n",
       "  </tbody>\n",
       "</table>\n",
       "</div>"
      ],
      "text/plain": [
       "   Density  Sample  VolumeDensity  SurfaceAreaDensity  MeanBreadthDensity  \\\n",
       "0     0.01      91          0.186               0.116               0.004   \n",
       "1     0.01      92          0.185               0.116               0.004   \n",
       "2     0.01      93          0.185               0.116               0.004   \n",
       "3     0.01      94          0.185               0.116               0.004   \n",
       "4     0.01      95          0.185               0.116               0.004   \n",
       "\n",
       "   EulerNumberDensity  \n",
       "0            0.000386  \n",
       "1            0.000373  \n",
       "2            0.000386  \n",
       "3            0.000392  \n",
       "4            0.000377  "
      ]
     },
     "execution_count": 4,
     "metadata": {},
     "output_type": "execute_result"
    }
   ],
   "source": [
    "mf1 = pd.read_csv('minkowskiDataSam1.csv')\n",
    "mf2 = pd.read_csv('minkowskiDataSam2.csv')\n",
    "# concatenate dataframe\n",
    "mf = pd.concat([mf1,mf2])\n",
    "mf.head()"
   ]
  },
  {
   "cell_type": "markdown",
   "id": "73ecccab",
   "metadata": {},
   "source": [
    "## Calculate the normalize breadth density and normalize Euler number using fm as lenght unit"
   ]
  },
  {
   "cell_type": "code",
   "execution_count": 5,
   "id": "ac88247b",
   "metadata": {},
   "outputs": [
    {
     "data": {
      "text/html": [
       "<div>\n",
       "<style scoped>\n",
       "    .dataframe tbody tr th:only-of-type {\n",
       "        vertical-align: middle;\n",
       "    }\n",
       "\n",
       "    .dataframe tbody tr th {\n",
       "        vertical-align: top;\n",
       "    }\n",
       "\n",
       "    .dataframe thead th {\n",
       "        text-align: right;\n",
       "    }\n",
       "</style>\n",
       "<table border=\"1\" class=\"dataframe\">\n",
       "  <thead>\n",
       "    <tr style=\"text-align: right;\">\n",
       "      <th></th>\n",
       "      <th>Density</th>\n",
       "      <th>Sample</th>\n",
       "      <th>VolumeDensity</th>\n",
       "      <th>SurfaceAreaDensity</th>\n",
       "      <th>MeanBreadthDensity</th>\n",
       "      <th>EulerNumberDensity</th>\n",
       "      <th>MBD-norm</th>\n",
       "      <th>END-norm</th>\n",
       "    </tr>\n",
       "  </thead>\n",
       "  <tbody>\n",
       "    <tr>\n",
       "      <th>0</th>\n",
       "      <td>0.01</td>\n",
       "      <td>91</td>\n",
       "      <td>0.186</td>\n",
       "      <td>0.116</td>\n",
       "      <td>0.004</td>\n",
       "      <td>0.000386</td>\n",
       "      <td>0.051724</td>\n",
       "      <td>0.001480</td>\n",
       "    </tr>\n",
       "    <tr>\n",
       "      <th>1</th>\n",
       "      <td>0.01</td>\n",
       "      <td>92</td>\n",
       "      <td>0.185</td>\n",
       "      <td>0.116</td>\n",
       "      <td>0.004</td>\n",
       "      <td>0.000373</td>\n",
       "      <td>0.051724</td>\n",
       "      <td>0.001430</td>\n",
       "    </tr>\n",
       "    <tr>\n",
       "      <th>2</th>\n",
       "      <td>0.01</td>\n",
       "      <td>93</td>\n",
       "      <td>0.185</td>\n",
       "      <td>0.116</td>\n",
       "      <td>0.004</td>\n",
       "      <td>0.000386</td>\n",
       "      <td>0.051724</td>\n",
       "      <td>0.001480</td>\n",
       "    </tr>\n",
       "    <tr>\n",
       "      <th>3</th>\n",
       "      <td>0.01</td>\n",
       "      <td>94</td>\n",
       "      <td>0.185</td>\n",
       "      <td>0.116</td>\n",
       "      <td>0.004</td>\n",
       "      <td>0.000392</td>\n",
       "      <td>0.051724</td>\n",
       "      <td>0.001502</td>\n",
       "    </tr>\n",
       "    <tr>\n",
       "      <th>4</th>\n",
       "      <td>0.01</td>\n",
       "      <td>95</td>\n",
       "      <td>0.185</td>\n",
       "      <td>0.116</td>\n",
       "      <td>0.004</td>\n",
       "      <td>0.000377</td>\n",
       "      <td>0.051724</td>\n",
       "      <td>0.001444</td>\n",
       "    </tr>\n",
       "  </tbody>\n",
       "</table>\n",
       "</div>"
      ],
      "text/plain": [
       "   Density  Sample  VolumeDensity  SurfaceAreaDensity  MeanBreadthDensity  \\\n",
       "0     0.01      91          0.186               0.116               0.004   \n",
       "1     0.01      92          0.185               0.116               0.004   \n",
       "2     0.01      93          0.185               0.116               0.004   \n",
       "3     0.01      94          0.185               0.116               0.004   \n",
       "4     0.01      95          0.185               0.116               0.004   \n",
       "\n",
       "   EulerNumberDensity  MBD-norm  END-norm  \n",
       "0            0.000386  0.051724  0.001480  \n",
       "1            0.000373  0.051724  0.001430  \n",
       "2            0.000386  0.051724  0.001480  \n",
       "3            0.000392  0.051724  0.001502  \n",
       "4            0.000377  0.051724  0.001444  "
      ]
     },
     "execution_count": 5,
     "metadata": {},
     "output_type": "execute_result"
    }
   ],
   "source": [
    "# normalize mean breadth density and euler number (by dividing over surface area density)\n",
    "# MBD-norm: mean breadth density normalized\n",
    "# resolution = 1.5 fm/pixel\n",
    "mf['MBD-norm'] = 1.5 * mf['MeanBreadthDensity']/mf['SurfaceAreaDensity']\n",
    "# END-norm: euler number density normalized\n",
    "mf['END-norm'] = mf['EulerNumberDensity']/(1.5*1.5*mf['SurfaceAreaDensity'])\n",
    "mf.head()"
   ]
  },
  {
   "cell_type": "code",
   "execution_count": 7,
   "id": "2c6525f4",
   "metadata": {},
   "outputs": [
    {
     "data": {
      "text/plain": [
       "Index(['Density', 'Sample', 'VolumeDensity', 'SurfaceAreaDensity',\n",
       "       'MeanBreadthDensity', 'EulerNumberDensity', 'MBD-norm', 'END-norm'],\n",
       "      dtype='object')"
      ]
     },
     "execution_count": 7,
     "metadata": {},
     "output_type": "execute_result"
    }
   ],
   "source": [
    "mf.columns"
   ]
  },
  {
   "cell_type": "markdown",
   "id": "12e0c9d7",
   "metadata": {},
   "source": [
    "## Convert 'MBD-norm' and 'END-norm' columns to numpy-arrays"
   ]
  },
  {
   "cell_type": "code",
   "execution_count": 8,
   "id": "90ee6bc2",
   "metadata": {},
   "outputs": [],
   "source": [
    "mbd = mf['MBD-norm'].squeeze()\n",
    "mbd = mbd.to_numpy()\n",
    "end = mf['END-norm']\n",
    "end = end.to_numpy()"
   ]
  },
  {
   "cell_type": "markdown",
   "id": "a07619c0",
   "metadata": {},
   "source": [
    "## Function to determine type of pasta as a function of 'MBD-norm' (mean breadth density normalized) $B$ and 'END-norm' (Euler number density normalized) $\\chi$"
   ]
  },
  {
   "cell_type": "code",
   "execution_count": 9,
   "id": "b2fad836",
   "metadata": {},
   "outputs": [],
   "source": [
    "# Type of pasta function\n",
    "def pasta_type(B, chi):\n",
    "    if np.greater(chi,0.001):\n",
    "        if np.less(B,0):\n",
    "            #print('Anti-gnocchi')\n",
    "            pasta_type = 0\n",
    "        else:\n",
    "            #print('Gnocchi')\n",
    "            pasta_type = 6\n",
    "    elif np.less_equal(abs(chi),0.001):\n",
    "        if np.less_equal(B,0.005):\n",
    "            #print('Lasagna')\n",
    "            pasta_type = 2\n",
    "        else:\n",
    "            #print('spaguetti')\n",
    "            pasta_type = 5\n",
    "    else:\n",
    "        if np.less(B,-0.005):\n",
    "            #print('Anti-spaguetti')\n",
    "            pasta_type = 1\n",
    "        elif np.less_equal(abs(B),0.005):\n",
    "            #print('Defects')\n",
    "            pasta_type = 3\n",
    "        else:\n",
    "            #print('waffle')\n",
    "            pasta_type = 4\n",
    "    return pasta_type"
   ]
  },
  {
   "cell_type": "markdown",
   "id": "a4b73e3f",
   "metadata": {},
   "source": [
    "## Coding for pasta\n",
    "* 'Anti-gnocchi', pasta_type = 0\n",
    "* 'Anti-spaguetti', pasta_type = 1\n",
    "* 'Lasagna', pasta_type = 2\n",
    "* 'Defects', pasta_type = 3\n",
    "* 'Waffle', pasta_type = 4\n",
    "* 'Spaguetti', pasta_type = 5\n",
    "* 'Gnocchi', pasta_type = 6"
   ]
  },
  {
   "cell_type": "markdown",
   "id": "78d1a9d8",
   "metadata": {},
   "source": [
    "## Vectorized pasta function"
   ]
  },
  {
   "cell_type": "code",
   "execution_count": 10,
   "id": "c447138f",
   "metadata": {},
   "outputs": [],
   "source": [
    "vec_pasta = np.vectorize(pasta_type)"
   ]
  },
  {
   "cell_type": "markdown",
   "id": "21c66705",
   "metadata": {},
   "source": [
    "## Apply vectorized pasta function to $B$ and $\\chi$ numpy-arrays"
   ]
  },
  {
   "cell_type": "code",
   "execution_count": 11,
   "id": "b52288e4",
   "metadata": {},
   "outputs": [],
   "source": [
    "pasta = vec_pasta(mbd, end)"
   ]
  },
  {
   "cell_type": "markdown",
   "id": "776da2a7",
   "metadata": {},
   "source": [
    "## Machine Learning -- KNN model"
   ]
  },
  {
   "cell_type": "code",
   "execution_count": 14,
   "id": "1ef8822a",
   "metadata": {},
   "outputs": [],
   "source": [
    "from sklearn.model_selection import train_test_split\n",
    "from sklearn.neighbors import KNeighborsClassifier\n",
    "from sklearn import metrics"
   ]
  },
  {
   "cell_type": "markdown",
   "id": "f3f49a4a",
   "metadata": {},
   "source": [
    "## Data and labels"
   ]
  },
  {
   "cell_type": "code",
   "execution_count": 15,
   "id": "5adbd907",
   "metadata": {},
   "outputs": [],
   "source": [
    "X = df\n",
    "y = pasta"
   ]
  },
  {
   "cell_type": "code",
   "execution_count": 16,
   "id": "6ce37a08",
   "metadata": {},
   "outputs": [],
   "source": [
    "X_train, X_test, y_train, y_test = train_test_split(X,y, random_state=4)"
   ]
  },
  {
   "cell_type": "markdown",
   "id": "3f651241",
   "metadata": {},
   "source": [
    "## Check classification accuracy of KNN with k=5"
   ]
  },
  {
   "cell_type": "code",
   "execution_count": 17,
   "id": "183ab466",
   "metadata": {},
   "outputs": [
    {
     "name": "stdout",
     "output_type": "stream",
     "text": [
      "0.8333333333333334\n"
     ]
    }
   ],
   "source": [
    "knn = KNeighborsClassifier(n_neighbors=5)\n",
    "knn.fit(X_train, y_train)\n",
    "y_pred = knn.predict(X_test)\n",
    "print(metrics.accuracy_score(y_test, y_pred))"
   ]
  },
  {
   "cell_type": "markdown",
   "id": "523bf76d",
   "metadata": {},
   "source": [
    "## Cross validation"
   ]
  },
  {
   "cell_type": "code",
   "execution_count": 18,
   "id": "96b8bde2",
   "metadata": {},
   "outputs": [],
   "source": [
    "from sklearn.model_selection import cross_val_score"
   ]
  },
  {
   "cell_type": "code",
   "execution_count": 21,
   "id": "fe28d29a",
   "metadata": {},
   "outputs": [
    {
     "name": "stdout",
     "output_type": "stream",
     "text": [
      "[0.65 1.   0.65 0.95 1.   0.85]\n"
     ]
    }
   ],
   "source": [
    "knn = KNeighborsClassifier(n_neighbors=5)\n",
    "scores = cross_val_score(knn, X, y, cv=6, scoring='accuracy')\n",
    "print(scores)"
   ]
  },
  {
   "cell_type": "code",
   "execution_count": 22,
   "id": "f3aad2e4",
   "metadata": {},
   "outputs": [
    {
     "name": "stdout",
     "output_type": "stream",
     "text": [
      "0.85\n"
     ]
    }
   ],
   "source": [
    "print(scores.mean())"
   ]
  },
  {
   "cell_type": "markdown",
   "id": "953cf98f",
   "metadata": {},
   "source": [
    "## Search for optimal k"
   ]
  },
  {
   "cell_type": "code",
   "execution_count": 27,
   "id": "305008d1",
   "metadata": {},
   "outputs": [
    {
     "name": "stdout",
     "output_type": "stream",
     "text": [
      "[0.8833333333333333, 0.8666666666666666, 0.8916666666666666, 0.8333333333333334, 0.85, 0.8249999999999998, 0.8083333333333332, 0.7666666666666666, 0.7749999999999999, 0.7583333333333333, 0.725, 0.7166666666666667, 0.7000000000000001, 0.65, 0.5750000000000001, 0.5333333333333333, 0.5083333333333334, 0.5333333333333333, 0.5, 0.5333333333333333, 0.49166666666666664, 0.525, 0.4749999999999999, 0.5166666666666667, 0.5083333333333333, 0.5333333333333333, 0.5, 0.5000000000000001, 0.4833333333333334]\n"
     ]
    }
   ],
   "source": [
    "k_range = range(1, 30)\n",
    "k_scores = []\n",
    "for k in k_range:\n",
    "    knn = KNeighborsClassifier(n_neighbors=k)\n",
    "    scores = cross_val_score(knn, X, y, cv=6, scoring='accuracy')\n",
    "    #print(scores.mean())\n",
    "    k_scores.append(scores.mean())\n",
    "    #print(k_scores)\n",
    "print(k_scores)"
   ]
  },
  {
   "cell_type": "code",
   "execution_count": 28,
   "id": "710fbc9d",
   "metadata": {},
   "outputs": [
    {
     "data": {
      "image/png": "[encoded data removed]",
      "text/plain": [
       "<Figure size 432x288 with 1 Axes>"
      ]
     },
     "metadata": {
      "needs_background": "light"
     },
     "output_type": "display_data"
    }
   ],
   "source": [
    "plt.plot(k_range, k_scores)\n",
    "plt.xlabel('K-value')\n",
    "plt.ylabel('Cross- Validation accuracy')\n",
    "plt.show()"
   ]
  },
  {
   "cell_type": "markdown",
   "id": "74839689",
   "metadata": {},
   "source": [
    "## Machine Learning -- SVM model"
   ]
  },
  {
   "cell_type": "code",
   "execution_count": 30,
   "id": "6a16e6c3",
   "metadata": {},
   "outputs": [],
   "source": [
    "from sklearn import svm"
   ]
  },
  {
   "cell_type": "code",
   "execution_count": 34,
   "id": "404049f1",
   "metadata": {},
   "outputs": [
    {
     "name": "stdout",
     "output_type": "stream",
     "text": [
      "Accuracy: 0.9\n",
      "Precision: 0.9333333333333333\n",
      "Recall: 0.9\n"
     ]
    }
   ],
   "source": [
    "X_train, X_test, y_train, y_test = train_test_split(X,y, random_state=4)\n",
    "# create a svm classifier\n",
    "clf = svm.SVC(kernel='linear')\n",
    "# train model\n",
    "clf.fit(X_train, y_train)\n",
    "# prediction\n",
    "y_pred = clf.predict(X_test)\n",
    "print('Accuracy:',metrics.accuracy_score(y_test, y_pred))\n",
    "print('Precision:',metrics.precision_score(y_test, y_pred, average='weighted'))\n",
    "print('Recall:',metrics.recall_score(y_test, y_pred, average='weighted'))"
   ]
  },
  {
   "cell_type": "code",
   "execution_count": null,
   "id": "0d040212",
   "metadata": {},
   "outputs": [],
   "source": []
  }
 ],
 "metadata": {
  "kernelspec": {
   "display_name": "Python 3 (ipykernel)",
   "language": "python",
   "name": "python3"
  },
  "language_info": {
   "codemirror_mode": {
    "name": "ipython",
    "version": 3
   },
   "file_extension": ".py",
   "mimetype": "text/x-python",
   "name": "python",
   "nbconvert_exporter": "python",
   "pygments_lexer": "ipython3",
   "version": "3.8.10"
  }
 },
 "nbformat": 4,
 "nbformat_minor": 5
}
